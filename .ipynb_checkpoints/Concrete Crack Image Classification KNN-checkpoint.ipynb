{
 "cells": [
  {
   "cell_type": "code",
   "execution_count": 19,
   "id": "540f7d19",
   "metadata": {},
   "outputs": [],
   "source": [
    "import PIL\n",
    "from math import *\n",
    "from PIL import Image\n",
    "from numpy import asarray\n",
    "import numpy as np\n",
    "from glob import glob\n",
    "import matplotlib.pyplot as plt\n",
    "from skimage import io \n",
    "import skimage\n",
    "import skimage.transform\n",
    "import random \n",
    "import imageio\n",
    "import cv2\n",
    "import numpy as np\n",
    "from IPython.display import display, Image\n",
    "import ipywidgets as widgets\n",
    "import threading\n",
    "import pickle\n",
    "train = 'train'\n",
    "test = 'test'\n",
    "pos,neg='Positive','Negative'\n",
    "types = [pos,neg]\n",
    "categories = [train, test]"
   ]
  },
  {
   "cell_type": "code",
   "execution_count": null,
   "id": "b6c171d4",
   "metadata": {
    "scrolled": true
   },
   "outputs": [
    {
     "name": "stdout",
     "output_type": "stream",
     "text": [
      "0\n",
      "1000\n",
      "2000\n",
      "3000\n",
      "4000\n"
     ]
    }
   ],
   "source": [
    "path=\"C:/Users/ganga/Deep Learning/Untitled Folder/Concrete Crack Images for Classification\"\n",
    "img_height=20\n",
    "img_width=20\n",
    "all_files = glob(path + '/*/*.jpg')\n",
    "y=[]\n",
    "data=[]\n",
    "random.shuffle(all_files)\n",
    "for i in range(len(all_files)):\n",
    "    img = io.imread(all_files[i]) #img = Image.open()\n",
    "    gray_image = skimage.color.rgb2gray(img)\n",
    "    resized=skimage.transform.resize(gray_image,(img_height,img_width))\n",
    "    numpydata = asarray(resized).ravel() \n",
    "    data.append(numpydata)\n",
    "    typ,file=all_files[i].replace(path+'\\\\','').split('\\\\')\n",
    "    y.append(types.index(typ))\n",
    "    if i%1000==0:\n",
    "        print(i)    \n",
    "data=np.array(data)\n",
    "y"
   ]
  },
  {
   "cell_type": "code",
   "execution_count": null,
   "id": "d54e2cbf",
   "metadata": {},
   "outputs": [],
   "source": [
    "y.count(0)"
   ]
  },
  {
   "cell_type": "raw",
   "id": "5838e638",
   "metadata": {},
   "source": [
    "test_path=\"D:/COLLEGE/Samsung Prism/data/test\"\n",
    "\n",
    "all_files_t = glob(test_path + '/*/*.wav')\n",
    "t_y=[]\n",
    "t_data=[]\n",
    "for i in range(len(all_files_t)):\n",
    "#     img = Image.open()\n",
    "#     numpydata = asarray(img).ravel()\n",
    "    _,dt=read(all_files[i])\n",
    "    t_data.append(dt.ravel())\n",
    "    language,file=all_files_t[i].replace(test_path+'\\\\','').split('\\\\')\n",
    "    t_y.append(languages.index(language))\n",
    "    print(i)\n",
    "t_data=np.array(t_data)\n",
    "t_y"
   ]
  },
  {
   "cell_type": "raw",
   "id": "c11218ae",
   "metadata": {},
   "source": [
    "from sklearn.model_selection import train_test_split\n",
    "import pandas as pd\n",
    "train=pd.read_csv(r\"C:\\Users\\ganga\\Deep Learning\\Untitled Folder\\sign_mnist_train\\sign_mnist_train.csv\")\n",
    "test=pd.read_csv(r\"C:\\Users\\ganga\\Deep Learning\\Untitled Folder\\sign_mnist_test\\sign_mnist_test.csv\")\n",
    "\n",
    "x_train=train.iloc[:,1:]\n",
    "y_train=train['label']\n",
    "x_test=test.iloc[:,1:]\n",
    "y_test=test['label']\n",
    "x_train"
   ]
  },
  {
   "cell_type": "code",
   "execution_count": null,
   "id": "5517900b",
   "metadata": {},
   "outputs": [],
   "source": [
    "from sklearn.model_selection import train_test_split\n",
    "import pandas as pd\n",
    "size=38000\n",
    "x_train=np.array(data[:size])\n",
    "y_train=np.array(y[:size])\n",
    "x_test=np.array(data[size:])\n",
    "y_test=np.array(y[size:])\n",
    "#train_test_split(data,y,test_size=0.2,random_state=42)\n"
   ]
  },
  {
   "cell_type": "code",
   "execution_count": null,
   "id": "6f320d9d",
   "metadata": {},
   "outputs": [],
   "source": [
    "len(y_test)"
   ]
  },
  {
   "cell_type": "code",
   "execution_count": null,
   "id": "b90c69c6",
   "metadata": {},
   "outputs": [],
   "source": [
    "x_test.shape"
   ]
  },
  {
   "cell_type": "code",
   "execution_count": null,
   "id": "00262933",
   "metadata": {
    "scrolled": true
   },
   "outputs": [],
   "source": [
    "from sklearn.neighbors import KNeighborsClassifier\n",
    "knn=KNeighborsClassifier(n_neighbors=7)#floor(sqrt(len(all_files))))\n",
    "knn.fit(data,y)#(x_train,y_train)"
   ]
  },
  {
   "cell_type": "code",
   "execution_count": 11,
   "id": "46b2dc58",
   "metadata": {},
   "outputs": [],
   "source": [
    "pickle.dump(knn,open('ConcreteCrackModel1.pkl', 'wb'))"
   ]
  },
  {
   "cell_type": "code",
   "execution_count": null,
   "id": "a2720b42",
   "metadata": {},
   "outputs": [],
   "source": [
    "y_pred=knn.predict(x_test)"
   ]
  },
  {
   "cell_type": "code",
   "execution_count": null,
   "id": "328f79b0",
   "metadata": {
    "scrolled": false
   },
   "outputs": [],
   "source": [
    "from sklearn.metrics import classification_report\n",
    "report_train=classification_report(y_train,knn.predict(x_train))\n",
    "report_test =classification_report(y_test,y_pred)\n",
    "print(report_test)"
   ]
  },
  {
   "cell_type": "code",
   "execution_count": null,
   "id": "1a3d8582",
   "metadata": {},
   "outputs": [],
   "source": [
    "print(report_train)"
   ]
  },
  {
   "cell_type": "code",
   "execution_count": null,
   "id": "e846a9dd",
   "metadata": {
    "scrolled": true
   },
   "outputs": [],
   "source": [
    "_i=46\n",
    "import matplotlib.pyplot as plt\n",
    "# img=open()\n",
    "plt.imshow(x_test[_i].reshape(img_width ,img_width),cmap=plt.get_cmap('gray'))\n",
    "# for _i in range(100):\n",
    "#     if(types[int(knn.predict([x_test[_i]]))]!=types[int(y_test[_i])]):\n",
    "#         print(_i)\n",
    "#         break\n",
    "print(types[int(knn.predict([x_test[_i]]))])\n",
    "print(types[int(y_test[_i])])"
   ]
  },
  {
   "cell_type": "code",
   "execution_count": null,
   "id": "9b1a1eda",
   "metadata": {
    "scrolled": true
   },
   "outputs": [],
   "source": [
    "model=pickle.load(open('ConcreteCrackModel1.pkl','rb'))"
   ]
  },
  {
   "cell_type": "code",
   "execution_count": null,
   "id": "a95c2638",
   "metadata": {
    "scrolled": false
   },
   "outputs": [],
   "source": [
    "cracks=r\"C:\\Users\\ganga\\Deep Learning\\Untitled Folder\\Concrete Crack Images for Classification\\Positive\\00070.jpg\"\n",
    "nocracks=r\"C:\\Users\\ganga\\Deep Learning\\Untitled Folder\\Concrete Crack Images for Classification\\Negative\\00011.jpg\"\n",
    "plt.imshow(io.imread(nocracks))"
   ]
  },
  {
   "cell_type": "code",
   "execution_count": null,
   "id": "1d37aeee",
   "metadata": {},
   "outputs": [],
   "source": [
    "plt.imshow(io.imread(cracks))"
   ]
  },
  {
   "cell_type": "markdown",
   "id": "a33c7b46",
   "metadata": {},
   "source": [
    "# Live Data"
   ]
  },
  {
   "cell_type": "code",
   "execution_count": null,
   "id": "664af050",
   "metadata": {
    "scrolled": false
   },
   "outputs": [],
   "source": [
    "# Stop button\n",
    "# ================\n",
    "stopButton = widgets.ToggleButton(\n",
    "    value=False,\n",
    "    description='Stop',\n",
    "    disabled=False,\n",
    "    button_style='danger', # 'success', 'info', 'warning', 'danger' or ''\n",
    "    tooltip='Description',\n",
    "    icon='square' # (FontAwesome names without the `fa-` prefix)\n",
    ")\n",
    "\n",
    "\n",
    "# Display function\n",
    "# ================\n",
    "global resize\n",
    "def view(button):\n",
    "    cap = cv2.VideoCapture(0)\n",
    "    display_handle=display(None, display_id=True)\n",
    "    i = 0\n",
    "    while True:\n",
    "        _, frame = cap.read()\n",
    "        frame = cv2.flip(frame, 1) # if your camera reverses your image \n",
    "        gray_image = skimage.color.rgb2gray(frame)\n",
    "        resized=skimage.transform.resize(gray_image,(img_height,img_width))\n",
    "        \n",
    "        if(model.predict([asarray(resized).ravel()])):\n",
    "            cv2.imwrite('Crack.jpeg', frame)\n",
    "            display_handle.update(Image(data=cracks))\n",
    "        else:        \n",
    "            _, frame = cv2.imencode('.jpeg', frame)\n",
    "            display_handle.update(Image(data=frame.tobytes()))\n",
    "\n",
    "        \n",
    "        if stopButton.value==True:\n",
    "            cap.release()\n",
    "            display_handle.update(None)\n",
    "\n",
    "            \n",
    "# Run\n",
    "# ================\n",
    "display(stopButton)\n",
    "thread = threading.Thread(target=view, args=(stopButton,))\n",
    "thread.start()"
   ]
  },
  {
   "cell_type": "raw",
   "id": "077ae56d",
   "metadata": {},
   "source": [
    "from  sklearn import datasets\n",
    "digits=datasets.load_digits()"
   ]
  },
  {
   "cell_type": "raw",
   "id": "7915d25d",
   "metadata": {},
   "source": [
    "x=digits.data\n",
    "y=digits.target"
   ]
  },
  {
   "cell_type": "raw",
   "id": "10e2a4b1",
   "metadata": {},
   "source": [
    "x"
   ]
  },
  {
   "cell_type": "raw",
   "id": "7412fe3c",
   "metadata": {},
   "source": [
    "x.shape"
   ]
  },
  {
   "cell_type": "raw",
   "id": "c0fb6374",
   "metadata": {},
   "source": [
    "x[0]"
   ]
  },
  {
   "cell_type": "raw",
   "id": "571eb918",
   "metadata": {},
   "source": [
    "digits.images.shape"
   ]
  },
  {
   "cell_type": "raw",
   "id": "a1800c36",
   "metadata": {},
   "source": [
    "digits.images[0].ravel()"
   ]
  },
  {
   "cell_type": "raw",
   "id": "71d2913c",
   "metadata": {},
   "source": [
    "import matplotlib.pyplot as plt\n",
    "plt.imshow(digits.images[8])\n",
    "plt.show()"
   ]
  },
  {
   "cell_type": "raw",
   "id": "8bcb75e7",
   "metadata": {},
   "source": [
    "import pydub \n",
    "import numpy as np\n",
    "\n",
    "def read(f, normalized=False):\n",
    "    \"\"\"MP3 to numpy array\"\"\"\n",
    "    a = pydub.AudioSegment.from_file(f)\n",
    "    y = np.array(a.get_array_of_samples())\n",
    "    if a.channels == 2:\n",
    "        y = y.reshape((-1, 2))\n",
    "    if normalized:\n",
    "        return a.frame_rate, np.float32(y) / 2**15\n",
    "    else:\n",
    "        return a.frame_rate, y\n"
   ]
  },
  {
   "cell_type": "code",
   "execution_count": null,
   "id": "3b17efe4",
   "metadata": {},
   "outputs": [],
   "source": []
  }
 ],
 "metadata": {
  "kernelspec": {
   "display_name": "Python 3",
   "language": "python",
   "name": "python3"
  },
  "language_info": {
   "codemirror_mode": {
    "name": "ipython",
    "version": 3
   },
   "file_extension": ".py",
   "mimetype": "text/x-python",
   "name": "python",
   "nbconvert_exporter": "python",
   "pygments_lexer": "ipython3",
   "version": "3.8.8"
  }
 },
 "nbformat": 4,
 "nbformat_minor": 5
}
